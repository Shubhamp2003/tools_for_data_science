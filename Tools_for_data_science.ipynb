{
 "cells": [
  {
   "cell_type": "markdown",
   "id": "fd04eac2",
   "metadata": {},
   "source": [
    "Tools for Data Science"
   ]
  },
  {
   "cell_type": "markdown",
   "id": "c79ef134",
   "metadata": {},
   "source": [
    "This notebook outlines important tools and libraries used in data science."
   ]
  },
  {
   "cell_type": "markdown",
   "id": "a3fba218",
   "metadata": {},
   "source": [
    "Data Science Languages\n",
    "\n",
    "1. Python\n",
    "2. R\n",
    "3. SQL\n",
    "4. Java\n",
    "5. Julia"
   ]
  },
  {
   "cell_type": "markdown",
   "id": "e217f60c",
   "metadata": {},
   "source": [
    "Data Science Libraries\n",
    "\n",
    "1. Pandas\n",
    "2. NumPy\n",
    "3. TensorFlow\n",
    "4. PyTorch\n",
    "5. Matplotlib\n",
    "6. Scikit-learn"
   ]
  },
  {
   "cell_type": "markdown",
   "id": "ae572fde",
   "metadata": {},
   "source": [
    "| Tools |\n",
    "|-------|\n",
    "| R Studio |\n",
    "| Spyder |\n",
    "| Zeppelin |\n",
    "| Jupiter Notebooks |\n",
    "| Anaconda |"
   ]
  },
  {
   "cell_type": "markdown",
   "id": "0bb9ea2b",
   "metadata": {},
   "source": [
    "Some examples of evaluating arithmetic expressions are given below:"
   ]
  },
  {
   "cell_type": "code",
   "execution_count": 2,
   "id": "8e5dd91d",
   "metadata": {},
   "outputs": [
    {
     "data": {
      "text/plain": [
       "17"
      ]
     },
     "execution_count": 2,
     "metadata": {},
     "output_type": "execute_result"
    }
   ],
   "source": [
    "# Multiplication followed by addition\n",
    "(3*4)+5"
   ]
  },
  {
   "cell_type": "code",
   "execution_count": 4,
   "id": "48cd6900",
   "metadata": {},
   "outputs": [
    {
     "data": {
      "text/plain": [
       "3.0"
      ]
     },
     "execution_count": 4,
     "metadata": {},
     "output_type": "execute_result"
    }
   ],
   "source": [
    "# Conversion of minutes into hours\n",
    "minutes=180\n",
    "hours=minutes/60\n",
    "hours"
   ]
  },
  {
   "cell_type": "markdown",
   "id": "04872d65",
   "metadata": {},
   "source": [
    "## Objectives\n",
    "* Learn some important data science languages\n",
    "* Learn some important data science libaries\n",
    "* Create markdown cells\n",
    "* Add ordered and unordered lists to markdown cells"
   ]
  },
  {
   "cell_type": "markdown",
   "id": "4c0138b8",
   "metadata": {},
   "source": [
    "## Author\n",
    "Shubham S Pant"
   ]
  },
  {
   "cell_type": "code",
   "execution_count": null,
   "id": "6446a975",
   "metadata": {},
   "outputs": [],
   "source": []
  }
 ],
 "metadata": {
  "kernelspec": {
   "display_name": "Python 3 (ipykernel)",
   "language": "python",
   "name": "python3"
  },
  "language_info": {
   "codemirror_mode": {
    "name": "ipython",
    "version": 3
   },
   "file_extension": ".py",
   "mimetype": "text/x-python",
   "name": "python",
   "nbconvert_exporter": "python",
   "pygments_lexer": "ipython3",
   "version": "3.11.5"
  }
 },
 "nbformat": 4,
 "nbformat_minor": 5
}
